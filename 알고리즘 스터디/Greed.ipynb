{
 "cells": [
  {
   "cell_type": "markdown",
   "metadata": {},
   "source": [
    "# 문제 설명"
   ]
  },
  {
   "cell_type": "markdown",
   "metadata": {},
   "source": [
    "\n",
    "파파 파스타 가게는 점심 추천 파스타와 생과일 쥬스 세트 메뉴가 인기가 좋다.\n",
    "\n",
    "이 세트 메뉴를 주문하면 그 날의 3 종류의 파스타와 2 종류의 생과일 쥬스에서 하나씩 선택한다.\n",
    "\n",
    "파스타와 생과일 쥬스의 가격 합계에서 10%를 더한 금액이 대금된다.\n",
    "\n",
    "어느 날의 파스타와 생과일 쥬스의 가격이 주어 졌을 때, 그 날 세트 메뉴의 대금의 최소값을 구하는 프로그램을 작성하라."
   ]
  },
  {
   "cell_type": "markdown",
   "metadata": {},
   "source": [
    "# 입력"
   ]
  },
  {
   "cell_type": "markdown",
   "metadata": {},
   "source": [
    "입력은 5 행으로 이루어지며, 한 줄에 하나씩 양의 정수가 적혀있다.\n",
    "\n",
    "1행의 정수는 첫 번째 파스타 가격이다.\n",
    "\n",
    "2행의 정수는 두 번째 파스타 가격이다.\n",
    "\n",
    "3행의 정수는 세 번째 파스타 가격이다.\n",
    "\n",
    "4행의 정수는 첫 번째 생과일 쥬스 가격이다.\n",
    "\n",
    "5행의 정수는 두 번째 생과일 쥬스의 가격이다.\n",
    "\n",
    "(모든 파스타와 생과일 쥬스의 가격은 100 원이상 2000원 이하이다.)"
   ]
  },
  {
   "cell_type": "markdown",
   "metadata": {},
   "source": [
    "# 출력"
   ]
  },
  {
   "cell_type": "markdown",
   "metadata": {},
   "source": [
    "그날 세트 메뉴의 최소 대금을 소수 첫째자리까지 출력하시오."
   ]
  },
  {
   "cell_type": "code",
   "execution_count": 3,
   "metadata": {},
   "outputs": [
    {
     "name": "stdout",
     "output_type": "stream",
     "text": [
      "800\n",
      "700\n",
      "900\n",
      "198\n",
      "330\n",
      "987.8\n"
     ]
    }
   ],
   "source": [
    "pasta_1 = int(input())\n",
    "pasta_2 = int(input())\n",
    "pasta_3 = int(input())\n",
    "\n",
    "juice_1 = int(input())\n",
    "juice_2 = int(input())\n",
    "\n",
    "cheapest_pasta = min(pasta_1, pasta_2, pasta_3)\n",
    "cheapest_juice = min(juice_1, juice_2)\n",
    "\n",
    "result = (cheapest_juice + cheapest_pasta) * 1.1\n",
    "print(\"%.1f\" % result)"
   ]
  },
  {
   "cell_type": "markdown",
   "metadata": {},
   "source": [
    "# 문제설명"
   ]
  },
  {
   "cell_type": "markdown",
   "metadata": {},
   "source": [
    "컴퓨터실에서 수업 중인 정보 선생님은 냉난방기의 온도를 조절하려고 한다.\n",
    "\n",
    "냉난방기가 멀리 있어서 리모컨으로 조작하려고 하는데, 리모컨의 온도 조절 버튼은 다음과 같다.\n",
    "\n",
    "1) 온도를 1도 올리는 버튼\n",
    "\n",
    "2) 온도를 1도 내리는 버튼\n",
    "\n",
    "3) 온도를 5도 올리는 버튼\n",
    "\n",
    "4) 온도를 5도 내리는 버튼\n",
    "\n",
    "5) 온도를 10도 올리는 버튼\n",
    "\n",
    "6) 온도를 10도 내리는 버튼\n",
    "\n",
    "이와 같이 총 6개의 버튼으로 목표 온도를 조절해야 한다.\n",
    "\n",
    "현재 설정 온도와 변경하고자하는 목표 온도가 주어지면 이 버튼들을 이용하여 목표 온도로 변경하고자 한다.\n",
    "\n",
    "이 때 버튼 누름의 최소 횟수를 구하시오.\n",
    "\n",
    "예를 들어, 7도에서 34도로 변경하는 경우,\n",
    "\n",
    "7 -> 17 -> 27 -> 32 -> 33 -> 34\n",
    "\n",
    "이렇게 총 5번 누르면 된다."
   ]
  },
  {
   "cell_type": "markdown",
   "metadata": {},
   "source": [
    "# 입력"
   ]
  },
  {
   "cell_type": "markdown",
   "metadata": {},
   "source": [
    "현재 온도a 와 목표 온도b가 입력된다. ( 0 <= a , b <= 40 )"
   ]
  },
  {
   "cell_type": "markdown",
   "metadata": {},
   "source": [
    "# 출력"
   ]
  },
  {
   "cell_type": "markdown",
   "metadata": {},
   "source": [
    "최소한의 버튼 사용으로 목표온도가 되는 버튼의 횟수를 출력한다."
   ]
  },
  {
   "cell_type": "markdown",
   "metadata": {},
   "source": [
    "# 문제설명"
   ]
  },
  {
   "cell_type": "markdown",
   "metadata": {},
   "source": [
    "어떤 가게의 욕심쟁이 점원은 거스름돈을 나눠줄때 거스름돈의 개수를 적게해서 주고자 한다.\n",
    "\n",
    "거스름돈을 입력 받아 점원이 줄 수 있는 최소 거스름돈의 개수를 출력하시오.\n",
    "\n",
    "예를 들어 54520원인 경우,\n",
    "\n",
    "거스름돈으로 50000원권 1장, 1000원권 4장, 500원 1개, 10원 2개 해서 총 8개이다.\n",
    "\n",
    "(※ 현재 우리나라가 사용하고 있는 화폐를 사용한다. 10원 50원 100원 500원 1,000원 5,000원 10,000원 50,000원)"
   ]
  },
  {
   "cell_type": "markdown",
   "metadata": {},
   "source": [
    "# 입력"
   ]
  },
  {
   "cell_type": "markdown",
   "metadata": {},
   "source": [
    "거스름돈 n이 입력된다. ( n은10이상의  int 범위 )"
   ]
  },
  {
   "cell_type": "markdown",
   "metadata": {},
   "source": [
    "# 출력"
   ]
  },
  {
   "cell_type": "markdown",
   "metadata": {},
   "source": [
    "최소 거스름돈의 개수를 출력한다."
   ]
  },
  {
   "cell_type": "code",
   "execution_count": 8,
   "metadata": {},
   "outputs": [
    {
     "name": "stdout",
     "output_type": "stream",
     "text": [
      "54520\n",
      "8\n"
     ]
    }
   ],
   "source": [
    "change = int(input())\n",
    "\n",
    "num = 0\n",
    "money = [50000, 10000, 5000, 1000, 500, 100, 50, 10]\n",
    "\n",
    "for m in money : #[\n",
    "    num += change//m\n",
    "    change = change%m\n",
    "#]\n",
    "\n",
    "print(num)"
   ]
  },
  {
   "cell_type": "markdown",
   "metadata": {},
   "source": [
    "# 일곱 난쟁이"
   ]
  },
  {
   "cell_type": "markdown",
   "metadata": {},
   "source": [
    "# 문제설명"
   ]
  },
  {
   "cell_type": "markdown",
   "metadata": {},
   "source": [
    "왕비를 피해 일곱 난쟁이들과 함께 평화롭게 생활하고 있던 백설공주에게 위기가 찾아왔다. 일과를 마치고 돌아온 난쟁이가 일곱 명이 아닌 아홉 명이었던 것이다.\n",
    "\n",
    "아홉 명의 난쟁이는 모두 자신이 \"백설 공주와 일곱 난쟁이\"의 주인공이라고 주장했다. 뛰어난 수학적 직관력을 가지고 있던 백설공주는, 다행스럽게도 일곱 난쟁이의 키의 합이 100이 됨을 기억해 냈다.\n",
    "\n",
    "아홉 난쟁이의 키가 주어졌을 때, 백설공주를 도와 일곱 난쟁이를 찾는 프로그램을 작성하시오."
   ]
  },
  {
   "cell_type": "markdown",
   "metadata": {},
   "source": [
    "# 입력"
   ]
  },
  {
   "cell_type": "markdown",
   "metadata": {},
   "source": [
    "아홉 개의 줄에 걸쳐 일곱 난쟁이의 키가 주어진다. 주어지는 키는 100을 넘지 않는 자연수이며, 아홉 난쟁이의 키는 모두 다르며, 가능한 정답이 여러가지인 경우에는 아무거나 출력한다."
   ]
  },
  {
   "cell_type": "markdown",
   "metadata": {},
   "source": [
    "출력"
   ]
  },
  {
   "cell_type": "markdown",
   "metadata": {},
   "source": [
    "일곱 난쟁이의 키를 오름차순으로 출력한다."
   ]
  },
  {
   "cell_type": "code",
   "execution_count": 1,
   "metadata": {},
   "outputs": [
    {
     "name": "stdout",
     "output_type": "stream",
     "text": [
      "20\n",
      "7\n",
      "23\n",
      "19\n",
      "10\n",
      "15\n",
      "25\n",
      "8\n",
      "13\n",
      "일곱 난쟁이 키: 7\n",
      "일곱 난쟁이 키: 8\n",
      "일곱 난쟁이 키: 10\n",
      "일곱 난쟁이 키: 13\n",
      "일곱 난쟁이 키: 19\n",
      "일곱 난쟁이 키: 20\n",
      "일곱 난쟁이 키: 23\n"
     ]
    }
   ],
   "source": [
    "a = []\n",
    "for i in range(9):\n",
    "    a.append(int(input()))\n",
    "rest = sum(a)\n",
    "a.sort()\n",
    "for i in range(9):\n",
    "    for j in range(i+1, 9):\n",
    "        if rest-a[i]-a[j] == 100:\n",
    "            for k in range(9):\n",
    "                if k == i or k == j:\n",
    "                    continue\n",
    "                else:\n",
    "                    print(\"일곱 난쟁이 키: \", a[k], sep='')\n",
    "            exit()"
   ]
  },
  {
   "cell_type": "code",
   "execution_count": null,
   "metadata": {},
   "outputs": [],
   "source": []
  }
 ],
 "metadata": {
  "kernelspec": {
   "display_name": "Python 3",
   "language": "python",
   "name": "python3"
  },
  "language_info": {
   "codemirror_mode": {
    "name": "ipython",
    "version": 3
   },
   "file_extension": ".py",
   "mimetype": "text/x-python",
   "name": "python",
   "nbconvert_exporter": "python",
   "pygments_lexer": "ipython3",
   "version": "3.8.5"
  }
 },
 "nbformat": 4,
 "nbformat_minor": 4
}
